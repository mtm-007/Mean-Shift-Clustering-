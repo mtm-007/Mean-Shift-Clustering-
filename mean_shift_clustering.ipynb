{
  "cells": [
    {
      "cell_type": "markdown",
      "source": [
        "## Clustering"
      ],
      "metadata": {
        "id": "iiKxKKxoEggr"
      },
      "id": "iiKxKKxoEggr"
    },
    {
      "cell_type": "code",
      "execution_count": 2,
      "id": "15414a7d",
      "metadata": {
        "id": "15414a7d"
      },
      "outputs": [],
      "source": [
        "import math, matplotlib.pyplot as plt, operator, torch\n",
        "from functools import partial"
      ]
    },
    {
      "cell_type": "code",
      "execution_count": 3,
      "id": "fa6d6594",
      "metadata": {
        "id": "fa6d6594"
      },
      "outputs": [],
      "source": [
        "torch.manual_seed(42)\n",
        "torch.set_printoptions(precision=3,linewidth=140, sci_mode=False)"
      ]
    },
    {
      "cell_type": "markdown",
      "source": [
        "## Create Data"
      ],
      "metadata": {
        "id": "OPo0q3OIFU_z"
      },
      "id": "OPo0q3OIFU_z"
    },
    {
      "cell_type": "code",
      "source": [
        "n_clusters =6\n",
        "n_samples = 250"
      ],
      "metadata": {
        "id": "Z1d6cxvgFSn1"
      },
      "id": "Z1d6cxvgFSn1",
      "execution_count": 4,
      "outputs": []
    },
    {
      "cell_type": "code",
      "source": [
        "centroids = torch.rand(n_clusters, 2)* 70-35"
      ],
      "metadata": {
        "id": "LtYDwC2KFesa"
      },
      "id": "LtYDwC2KFesa",
      "execution_count": 5,
      "outputs": []
    },
    {
      "cell_type": "code",
      "source": [
        "from torch.distributions.multivariate_normal import MultivariateNormal\n",
        "from torch import tensor"
      ],
      "metadata": {
        "id": "8itx_DN1Fr5q"
      },
      "id": "8itx_DN1Fr5q",
      "execution_count": 6,
      "outputs": []
    },
    {
      "cell_type": "code",
      "source": [
        "def sample(m): return MultivariateNormal(m, torch.diag(tensor([5.,5.]))).sample((n_samples,))"
      ],
      "metadata": {
        "id": "My3OMIwNF68f"
      },
      "id": "My3OMIwNF68f",
      "execution_count": 7,
      "outputs": []
    },
    {
      "cell_type": "code",
      "source": [
        "slices = [sample(c) for c in centroids]\n",
        "data = torch.cat(slices)\n",
        "data.shape"
      ],
      "metadata": {
        "id": "wuFQrHJPGhmw",
        "outputId": "ba77bf7d-29d9-4682-9324-c5f995996997",
        "colab": {
          "base_uri": "https://localhost:8080/"
        }
      },
      "id": "wuFQrHJPGhmw",
      "execution_count": 8,
      "outputs": [
        {
          "output_type": "execute_result",
          "data": {
            "text/plain": [
              "torch.Size([1500, 2])"
            ]
          },
          "metadata": {},
          "execution_count": 8
        }
      ]
    },
    {
      "cell_type": "code",
      "source": [],
      "metadata": {
        "id": "m0H--SuHGy9j"
      },
      "id": "m0H--SuHGy9j",
      "execution_count": null,
      "outputs": []
    }
  ],
  "metadata": {
    "kernelspec": {
      "display_name": "Python 3 (ipykernel)",
      "language": "python",
      "name": "python3"
    },
    "language_info": {
      "codemirror_mode": {
        "name": "ipython",
        "version": 3
      },
      "file_extension": ".py",
      "mimetype": "text/x-python",
      "name": "python",
      "nbconvert_exporter": "python",
      "pygments_lexer": "ipython3",
      "version": "3.10.5"
    },
    "colab": {
      "provenance": []
    }
  },
  "nbformat": 4,
  "nbformat_minor": 5
}